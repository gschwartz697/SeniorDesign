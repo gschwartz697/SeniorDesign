{
 "cells": [
  {
   "cell_type": "code",
   "execution_count": 3,
   "metadata": {},
   "outputs": [],
   "source": [
    "# Only use the first 100 characters so you can use this late for BERT stuff\n",
    "def short_question_to_node_dict(all_contributions):\n",
    "    dictionary = {}\n",
    "    for node in all_contributions:\n",
    "        if node.shortened_question:\n",
    "            dictionary[node.shortened_question[0:100]] = node\n",
    "    return dictionary"
   ]
  },
  {
   "cell_type": "code",
   "execution_count": 4,
   "metadata": {},
   "outputs": [],
   "source": [
    "def only_one_folder(folder, all_contributions):\n",
    "    folder_questions = []\n",
    "    for node in all_contributions:\n",
    "        if folder in node.question_folders:\n",
    "            folder_questions.append(node)\n",
    "    return folder_questions"
   ]
  },
  {
   "cell_type": "code",
   "execution_count": 8,
   "metadata": {},
   "outputs": [],
   "source": [
    "def create_cluster_dicts(labels, all_contributions):\n",
    "    # Create one dictionary cluster -> node\n",
    "    # Create a second dictionary node -> cluster\n",
    "    cluster_to_node = {}\n",
    "    node_to_cluster = {}\n",
    "    for i in range(len(all_contributions)):\n",
    "        label = labels[i]\n",
    "        cluster_to_node.setdefault(label, []).append(all_contributions[i])\n",
    "        node_to_cluster[all_contributions[i]] = label\n",
    "    return(cluster_to_node, node_to_cluster)"
   ]
  },
  {
   "cell_type": "code",
   "execution_count": 6,
   "metadata": {},
   "outputs": [],
   "source": [
    "def sentences_to_nodes(sentence_array, short_question_to_node_dict):\n",
    "    new_cluster = []\n",
    "    for sentence in sentence_array:\n",
    "        new_cluster.append(short_question_to_node_dict[sentence[0:100]])\n",
    "    return new_cluster"
   ]
  },
  {
   "cell_type": "code",
   "execution_count": 9,
   "metadata": {},
   "outputs": [],
   "source": [
    "def find_clusters_to_combine(all_contributions, node_to_cluster, length, short_question_to_node):\n",
    "    from unionfind import unionfind\n",
    "        \n",
    "    u = unionfind(length)\n",
    "            \n",
    "    for node in short_question_to_node.values():\n",
    "        try:\n",
    "            key_cluster_number = node_to_cluster[node.shortened_question]\n",
    "            for ref in list(node.references):\n",
    "                contribution = all_contributions[(str(ref), 0)]\n",
    "                try:\n",
    "                    num_to_unite = node_to_cluster[contribution.shortened_question[0:100]]\n",
    "                    u.unite(key_cluster_number, num_to_unite)\n",
    "                except:\n",
    "                    continue\n",
    "                    \n",
    "        # If you come here if just means that question wasn't clustered anywhere\n",
    "        except:\n",
    "            continue\n",
    "                    \n",
    "    return u.groups()"
   ]
  },
  {
   "cell_type": "code",
   "execution_count": null,
   "metadata": {},
   "outputs": [],
   "source": []
  }
 ],
 "metadata": {
  "kernelspec": {
   "display_name": "Python 3",
   "language": "python",
   "name": "python3"
  },
  "language_info": {
   "codemirror_mode": {
    "name": "ipython",
    "version": 3
   },
   "file_extension": ".py",
   "mimetype": "text/x-python",
   "name": "python",
   "nbconvert_exporter": "python",
   "pygments_lexer": "ipython3",
   "version": "3.7.2"
  }
 },
 "nbformat": 4,
 "nbformat_minor": 2
}
