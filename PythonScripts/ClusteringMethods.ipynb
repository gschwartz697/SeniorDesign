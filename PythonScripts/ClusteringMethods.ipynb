{
 "cells": [
  {
   "cell_type": "code",
   "execution_count": 2,
   "metadata": {},
   "outputs": [],
   "source": [
    "def kmeans_cluster(k, questions):\n",
    "    from sklearn.feature_extraction.text import TfidfVectorizer\n",
    "    from sklearn.cluster import KMeans\n",
    "    from sklearn.metrics import adjusted_rand_score\n",
    "\n",
    "    from xml.dom import minidom\n",
    "\n",
    "    # parse an xml file by name\n",
    "    mydoc = minidom.parse('Posts.xml')\n",
    "\n",
    "    SEitems = mydoc.getElementsByTagName('row')\n",
    "\n",
    "    SEitems_questions = []\n",
    "    for item in SEitems:\n",
    "        SEitems_questions.append(item.attributes['Body'].value)\n",
    "\n",
    "    SEitems_questions = SEitems_questions[1:6000]\n",
    "\n",
    "    vectorizer = TfidfVectorizer(stop_words='english')\n",
    "    X_orig = vectorizer.fit(SEitems_questions)\n",
    "    X = vectorizer.transform(questions)\n",
    "\n",
    "    # Number of clusters per homework\n",
    "    model = KMeans(n_clusters=k, init='k-means++', max_iter=500, n_init=10)\n",
    "    model.fit(X)\n",
    "    \n",
    "    return model.labels_"
   ]
  },
  {
   "cell_type": "code",
   "execution_count": null,
   "metadata": {},
   "outputs": [],
   "source": []
  }
 ],
 "metadata": {
  "kernelspec": {
   "display_name": "Python 3",
   "language": "python",
   "name": "python3"
  },
  "language_info": {
   "codemirror_mode": {
    "name": "ipython",
    "version": 3
   },
   "file_extension": ".py",
   "mimetype": "text/x-python",
   "name": "python",
   "nbconvert_exporter": "python",
   "pygments_lexer": "ipython3",
   "version": "3.7.2"
  }
 },
 "nbformat": 4,
 "nbformat_minor": 2
}
