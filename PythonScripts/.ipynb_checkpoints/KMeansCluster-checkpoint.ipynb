{
 "cells": [
  {
   "cell_type": "code",
   "execution_count": null,
   "metadata": {},
   "outputs": [],
   "source": [
    "%run ParsingMethods.ipynb\n",
    "\n",
    "timestamps = {}\n",
    "all_contributions = {}\n",
    "all_folders = []\n",
    "\n",
    "all_contributions, timestamps, all_folders = parseCSV('contributions.csv')"
   ]
  },
  {
   "cell_type": "code",
   "execution_count": null,
   "metadata": {},
   "outputs": [],
   "source": [
    "# Create a map of shortened questions to nodes so we can cluster and then refer back\n",
    "# For now, limit this to just one hw assignment\n",
    "folder = \"hw4\"\n",
    "\n",
    "to_cluster = {}\n",
    "for node in all_contributions.values():\n",
    "    if folder in node.question_folders:\n",
    "        to_cluster[node.shortened_question] = node"
   ]
  },
  {
   "cell_type": "code",
   "execution_count": null,
   "metadata": {},
   "outputs": [],
   "source": [
    "from sklearn.feature_extraction.text import TfidfVectorizer\n",
    "from sklearn.cluster import KMeans\n",
    "from sklearn.metrics import adjusted_rand_score\n",
    "\n",
    "from xml.dom import minidom\n",
    "keys = list(to_cluster.keys())\n",
    "\n",
    "print(len(keys))\n",
    "\n",
    "# parse an xml file by name\n",
    "mydoc = minidom.parse('Posts.xml')\n",
    "\n",
    "SEitems = mydoc.getElementsByTagName('row')\n",
    "\n",
    "SEitems_questions = []\n",
    "for item in SEitems:\n",
    "    SEitems_questions.append(item.attributes['Body'].value)\n",
    "    \n",
    "SEitems_questions = SEitems_questions[1:6000]\n",
    "\n",
    "vectorizer = TfidfVectorizer(stop_words='english')\n",
    "X_orig = vectorizer.fit(SEitems_questions)\n",
    "X = vectorizer.transform(keys)\n",
    "\n",
    "# Number of clusters per homework\n",
    "true_k = 100\n",
    "model = KMeans(n_clusters=true_k, init='k-means++', max_iter=100, n_init=10)\n",
    "model.fit(X)\n",
    "\n",
    "# print(\"\\n\")\n",
    "# print(\"Prediction\")\n",
    "\n",
    "\n"
   ]
  },
  {
   "cell_type": "code",
   "execution_count": null,
   "metadata": {},
   "outputs": [],
   "source": [
    "Y = vectorizer.transform([\"Should we fail for empty queues for delete and contains too?\"])\n",
    "prediction = model.predict(Y)"
   ]
  },
  {
   "cell_type": "code",
   "execution_count": null,
   "metadata": {},
   "outputs": [],
   "source": [
    "final_clusters = {}\n",
    "cluster_location = {}\n",
    "for i in range(len(keys)):\n",
    "    label = model.labels_[i]\n",
    "    final_clusters.setdefault(label, []).append(to_cluster[keys[i]])\n",
    "    cluster_location[to_cluster[keys[i]]] = label\n",
    "    \n",
    "# print(raw_references)\n",
    "    \n",
    "# print(final_clusters)"
   ]
  },
  {
   "cell_type": "code",
   "execution_count": null,
   "metadata": {},
   "outputs": [],
   "source": [
    "from unionfind import unionfind\n",
    "\n",
    "length = len(list(final_clusters.keys()))\n",
    "u = unionfind(length)\n",
    "\n",
    "# Hard coded for not follow ups right now\n",
    "# Getting some errors -- I think with questions that are outside this hw assignment\n",
    "for key in cluster_location.keys():\n",
    "    key_cluster_number = cluster_location[key]\n",
    "    print(key.question_number)\n",
    "    print(key.references)\n",
    "    for ref in key.references:\n",
    "        if not ref == -1:\n",
    "            try:\n",
    "                num_to_unite = cluster_location[all_contributions[(str(ref), 0)]]\n",
    "                u.unite(key_cluster_number, num_to_unite)\n",
    "            except:\n",
    "                print(\"err\")\n",
    "\n",
    "print(u.groups())"
   ]
  },
  {
   "cell_type": "code",
   "execution_count": null,
   "metadata": {},
   "outputs": [],
   "source": []
  }
 ],
 "metadata": {
  "kernelspec": {
   "display_name": "Python 3",
   "language": "python",
   "name": "python3"
  },
  "language_info": {
   "codemirror_mode": {
    "name": "ipython",
    "version": 3
   },
   "file_extension": ".py",
   "mimetype": "text/x-python",
   "name": "python",
   "nbconvert_exporter": "python",
   "pygments_lexer": "ipython3",
   "version": "3.7.2"
  }
 },
 "nbformat": 4,
 "nbformat_minor": 2
}
