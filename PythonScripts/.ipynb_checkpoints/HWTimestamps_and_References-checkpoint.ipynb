{
 "cells": [
  {
   "cell_type": "code",
   "execution_count": null,
   "metadata": {},
   "outputs": [],
   "source": [
    "%run ParsingMethods.ipynb\n",
    "\n",
    "timestamps = {}\n",
    "all_contributions = {}\n",
    "all_folders = []\n",
    "\n",
    "all_contributions, timestamps, all_folders = parseCSV('contributions.csv')"
   ]
  },
  {
   "cell_type": "code",
   "execution_count": null,
   "metadata": {},
   "outputs": [],
   "source": [
    "import csv\n",
    "\n",
    "hw_timestamps_filename = 'hw_timestamps.csv'\n",
    "with open(hw_timestamps_filename, 'w', encoding=\"utf8\") as hw_timestamps_file: \n",
    "    # creating a csv reader object \n",
    "    results_writer = csv.writer(hw_timestamps_file) \n",
    "\n",
    "    for key, value in timestamps.items(): \n",
    "        \n",
    "        print(key)\n",
    "        dates = \"\"\n",
    "        for l in value:\n",
    "            dates = dates + l.strftime('%m/%d/%Y') + \",\"\n",
    "            print(l.strftime('%m/%d/%Y'))\n",
    "        results_writer.writerow([key, dates])"
   ]
  },
  {
   "cell_type": "code",
   "execution_count": null,
   "metadata": {},
   "outputs": [],
   "source": [
    "import operator\n",
    "import csv\n",
    "   \n",
    "references_filename = 'references.csv'\n",
    "with open(references_filename, 'w', encoding=\"utf8\") as references_file: \n",
    "    reference_writer = csv.writer(references_file) \n",
    "    \n",
    "    for folder in all_folders:\n",
    "        print(folder)\n",
    "        reference_writer.writerow([folder])\n",
    "        for node in all_contributions.values():\n",
    "            if folder in node.question_folders:\n",
    "                print({node.question_number: node.references})\n",
    "                if not len(node.references) == 0:\n",
    "                    reference_writer.writerow([node.question_number, node.references])\n",
    "        "
   ]
  },
  {
   "cell_type": "code",
   "execution_count": null,
   "metadata": {},
   "outputs": [],
   "source": []
  }
 ],
 "metadata": {
  "kernelspec": {
   "display_name": "Python 3",
   "language": "python",
   "name": "python3"
  },
  "language_info": {
   "codemirror_mode": {
    "name": "ipython",
    "version": 3
   },
   "file_extension": ".py",
   "mimetype": "text/x-python",
   "name": "python",
   "nbconvert_exporter": "python",
   "pygments_lexer": "ipython3",
   "version": "3.7.2"
  }
 },
 "nbformat": 4,
 "nbformat_minor": 2
}
