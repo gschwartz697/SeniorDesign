{
 "cells": [
  {
   "cell_type": "code",
   "execution_count": 1,
   "metadata": {},
   "outputs": [],
   "source": [
    "import import_ipynb"
   ]
  },
  {
   "cell_type": "code",
   "execution_count": 2,
   "metadata": {},
   "outputs": [
    {
     "name": "stdout",
     "output_type": "stream",
     "text": [
      "importing Jupyter notebook from ParsingMethods.ipynb\n"
     ]
    },
    {
     "ename": "FileNotFoundError",
     "evalue": "[Errno 2] No such file or directory: 'contributions.csv'",
     "output_type": "error",
     "traceback": [
      "\u001b[0;31m---------------------------------------------------------------------------\u001b[0m",
      "\u001b[0;31mFileNotFoundError\u001b[0m                         Traceback (most recent call last)",
      "\u001b[0;32m<ipython-input-2-3a562b31f2db>\u001b[0m in \u001b[0;36m<module>\u001b[0;34m\u001b[0m\n\u001b[0;32m----> 1\u001b[0;31m \u001b[0;32mfrom\u001b[0m \u001b[0mParsingMethods\u001b[0m \u001b[0;32mimport\u001b[0m \u001b[0mparseCSV\u001b[0m\u001b[0;34m\u001b[0m\u001b[0;34m\u001b[0m\u001b[0m\n\u001b[0m\u001b[1;32m      2\u001b[0m \u001b[0;34m\u001b[0m\u001b[0m\n\u001b[1;32m      3\u001b[0m \u001b[0mall_contributions\u001b[0m\u001b[0;34m,\u001b[0m \u001b[0mentireText\u001b[0m\u001b[0;34m,\u001b[0m \u001b[0mtimestamps\u001b[0m\u001b[0;34m,\u001b[0m \u001b[0mall_folders\u001b[0m \u001b[0;34m=\u001b[0m \u001b[0mparseCSV\u001b[0m\u001b[0;34m(\u001b[0m\u001b[0;34m'nets_contributions17.csv'\u001b[0m\u001b[0;34m)\u001b[0m\u001b[0;34m\u001b[0m\u001b[0;34m\u001b[0m\u001b[0m\n",
      "\u001b[0;32m~/miniconda3/lib/python3.7/importlib/_bootstrap.py\u001b[0m in \u001b[0;36m_find_and_load\u001b[0;34m(name, import_)\u001b[0m\n",
      "\u001b[0;32m~/miniconda3/lib/python3.7/importlib/_bootstrap.py\u001b[0m in \u001b[0;36m_find_and_load_unlocked\u001b[0;34m(name, import_)\u001b[0m\n",
      "\u001b[0;32m~/miniconda3/lib/python3.7/importlib/_bootstrap.py\u001b[0m in \u001b[0;36m_load_unlocked\u001b[0;34m(spec)\u001b[0m\n",
      "\u001b[0;32m~/miniconda3/lib/python3.7/importlib/_bootstrap.py\u001b[0m in \u001b[0;36m_load_backward_compatible\u001b[0;34m(spec)\u001b[0m\n",
      "\u001b[0;32m~/miniconda3/lib/python3.7/site-packages/import_ipynb.py\u001b[0m in \u001b[0;36mload_module\u001b[0;34m(self, fullname)\u001b[0m\n\u001b[1;32m     59\u001b[0m                 \u001b[0mcode\u001b[0m \u001b[0;34m=\u001b[0m \u001b[0mself\u001b[0m\u001b[0;34m.\u001b[0m\u001b[0mshell\u001b[0m\u001b[0;34m.\u001b[0m\u001b[0minput_transformer_manager\u001b[0m\u001b[0;34m.\u001b[0m\u001b[0mtransform_cell\u001b[0m\u001b[0;34m(\u001b[0m\u001b[0mcell\u001b[0m\u001b[0;34m.\u001b[0m\u001b[0msource\u001b[0m\u001b[0;34m)\u001b[0m\u001b[0;34m\u001b[0m\u001b[0;34m\u001b[0m\u001b[0m\n\u001b[1;32m     60\u001b[0m                 \u001b[0;31m# run the code in themodule\u001b[0m\u001b[0;34m\u001b[0m\u001b[0;34m\u001b[0m\u001b[0;34m\u001b[0m\u001b[0m\n\u001b[0;32m---> 61\u001b[0;31m                 \u001b[0mexec\u001b[0m\u001b[0;34m(\u001b[0m\u001b[0mcode\u001b[0m\u001b[0;34m,\u001b[0m \u001b[0mmod\u001b[0m\u001b[0;34m.\u001b[0m\u001b[0m__dict__\u001b[0m\u001b[0;34m)\u001b[0m\u001b[0;34m\u001b[0m\u001b[0;34m\u001b[0m\u001b[0m\n\u001b[0m\u001b[1;32m     62\u001b[0m         \u001b[0;32mfinally\u001b[0m\u001b[0;34m:\u001b[0m\u001b[0;34m\u001b[0m\u001b[0;34m\u001b[0m\u001b[0m\n\u001b[1;32m     63\u001b[0m             \u001b[0mself\u001b[0m\u001b[0;34m.\u001b[0m\u001b[0mshell\u001b[0m\u001b[0;34m.\u001b[0m\u001b[0muser_ns\u001b[0m \u001b[0;34m=\u001b[0m \u001b[0msave_user_ns\u001b[0m\u001b[0;34m\u001b[0m\u001b[0;34m\u001b[0m\u001b[0m\n",
      "\u001b[0;32m~/Documents/SeniorDesignFinal/SeniorDesign/PythonScripts/ParsingMethods.ipynb\u001b[0m in \u001b[0;36m<module>\u001b[0;34m\u001b[0m\n",
      "\u001b[0;32m~/Documents/SeniorDesignFinal/SeniorDesign/PythonScripts/ParsingMethods.ipynb\u001b[0m in \u001b[0;36mparseCSV\u001b[0;34m(filename)\u001b[0m\n",
      "\u001b[0;32m~/Documents/SeniorDesignFinal/SeniorDesign/PythonScripts/ParsingMethods.ipynb\u001b[0m in \u001b[0;36mtextFromCSV\u001b[0;34m(filename)\u001b[0m\n",
      "\u001b[0;31mFileNotFoundError\u001b[0m: [Errno 2] No such file or directory: 'contributions.csv'"
     ]
    }
   ],
   "source": [
    "from ParsingMethods import parseCSV\n",
    "\n",
    "all_contributions, entireText, timestamps, all_folders = parseCSV('nets_contributions17.csv')"
   ]
  },
  {
   "cell_type": "code",
   "execution_count": null,
   "metadata": {},
   "outputs": [],
   "source": [
    "from ManipulationMethods import only_one_folder\n",
    "\n",
    "# Cluster within just one folder\n",
    "all_nodes = list(all_contributions.values())\n",
    "\n",
    "folder = \"hw2\"\n",
    "\n",
    "# Returns a list of all nodes where the question is contained in folder\n",
    "folder_contributions = only_one_folder(folder, all_nodes)"
   ]
  },
  {
   "cell_type": "code",
   "execution_count": null,
   "metadata": {},
   "outputs": [],
   "source": [
    "from ClusteringMethods import kmeans_cluster\n",
    "from ManipulationMethods import create_cluster_dicts\n",
    "from ManipulationMethods import short_question_to_node_dict\n",
    "\n",
    "# Should put optimal k here\n",
    "k = 7\n",
    "\n",
    "# Creates a dictionary that links the first 100 characters of the shortened question to the raw node\n",
    "# so that it can be retrieved later on\n",
    "short_question_to_node, long_question_to_node = short_question_to_node_dict(folder_contributions)\n",
    "\n",
    "# Create a list of all short questions in order to cluster them\n",
    "short_questions = []\n",
    "for node in folder_contributions:\n",
    "    short_questions.append(node.shortened_question)\n",
    "\n",
    "# Returns a list where the index is equal to the cluster label for the question at the same index in short_questions\n",
    "labels = kmeans_cluster(k, short_questions)\n",
    "\n",
    "# Returns two dictionaies one that links the short question to its cluster and one that links\n",
    "# a cluster number to a list of questions\n",
    "cluster_to_question, question_to_cluster = create_cluster_dicts(labels, short_questions)\n",
    "\n",
    "for cluster in cluster_to_question:\n",
    "    for question in cluster_to_question[cluster]:\n",
    "        if question:\n",
    "            print(short_question_to_node[question[0:100]].raw_question)\n",
    "    print(\"\\n\\n\\n\\n\\n\\n\\n\\n\\n\\n\\n\\n\\n\")"
   ]
  },
  {
   "cell_type": "code",
   "execution_count": null,
   "metadata": {},
   "outputs": [],
   "source": [
    "from BERTMethods import create_bert_model\n",
    "\n",
    "bert_models = {}\n",
    "raw_questions_for_bert = {}\n",
    "\n",
    "# We want to iterate through and then come up with a BERT model for each cluster\n",
    "for cluster_number in cluster_to_question:\n",
    "    # Strip all questions so that we can determine which are empty\n",
    "    raw_questions_for_bert[cluster_number] = [short_question_to_node[x[0:100]].raw_question for x in cluster_to_question[cluster_number] if x.strip()]\n",
    "    bert_models[cluster_number] = create_bert_model(raw_questions_for_bert[cluster_number])\n",
    "\n",
    "# BERT models is now a dict where each value is of the form (bc, doc_vecs)"
   ]
  },
  {
   "cell_type": "code",
   "execution_count": null,
   "metadata": {},
   "outputs": [],
   "source": [
    "from BERTMethods import find_k_similar_sentences\n",
    "topk_per_question = {}\n",
    "\n",
    "# topk_per_question becomes a dict of the form question: ranked similarities for all questions in that cluster\n",
    "for cluster_number in raw_questions_for_bert:\n",
    "    bert_model = bert_models[cluster_number]\n",
    "    for question in raw_questions_for_bert[cluster_number]:\n",
    "        final_scores = find_k_similar_sentences(bert_model[0], bert_model[1], 10, raw_questions_for_bert[cluster_number], question)\n",
    "        if len(list(final_scores.values())) > 0:\n",
    "            topk_per_question[question] = final_scores[question]"
   ]
  },
  {
   "cell_type": "code",
   "execution_count": 3,
   "metadata": {},
   "outputs": [
    {
     "name": "stdout",
     "output_type": "stream",
     "text": [
      "importing Jupyter notebook from BERTMethods.ipynb\n"
     ]
    },
    {
     "ename": "NameError",
     "evalue": "name 'topk_per_question' is not defined",
     "output_type": "error",
     "traceback": [
      "\u001b[0;31m---------------------------------------------------------------------------\u001b[0m",
      "\u001b[0;31mNameError\u001b[0m                                 Traceback (most recent call last)",
      "\u001b[0;32m<ipython-input-3-2d104bc2856a>\u001b[0m in \u001b[0;36m<module>\u001b[0;34m\u001b[0m\n\u001b[1;32m      1\u001b[0m \u001b[0;32mfrom\u001b[0m \u001b[0mBERTMethods\u001b[0m \u001b[0;32mimport\u001b[0m \u001b[0mcluster_bert_clusters\u001b[0m\u001b[0;34m\u001b[0m\u001b[0;34m\u001b[0m\u001b[0m\n\u001b[1;32m      2\u001b[0m \u001b[0;34m\u001b[0m\u001b[0m\n\u001b[0;32m----> 3\u001b[0;31m \u001b[0minitial_bert_clusters\u001b[0m \u001b[0;34m=\u001b[0m \u001b[0mcluster_bert_clusters\u001b[0m\u001b[0;34m(\u001b[0m\u001b[0mtopk_per_question\u001b[0m\u001b[0;34m,\u001b[0m \u001b[0mk\u001b[0m\u001b[0;34m)\u001b[0m\u001b[0;34m\u001b[0m\u001b[0;34m\u001b[0m\u001b[0m\n\u001b[0m\u001b[1;32m      4\u001b[0m \u001b[0;34m\u001b[0m\u001b[0m\n\u001b[1;32m      5\u001b[0m \u001b[0mfinal_bert_clusters\u001b[0m \u001b[0;34m=\u001b[0m \u001b[0;34m{\u001b[0m\u001b[0;34m}\u001b[0m\u001b[0;34m\u001b[0m\u001b[0;34m\u001b[0m\u001b[0m\n",
      "\u001b[0;31mNameError\u001b[0m: name 'topk_per_question' is not defined"
     ]
    }
   ],
   "source": [
    "from BERTMethods import cluster_bert_clusters\n",
    "\n",
    "initial_bert_clusters = cluster_bert_clusters(topk_per_question, k)\n",
    "\n",
    "final_bert_clusters = {}\n",
    "final_bert_node_to_cluster = {}\n",
    "\n",
    "for cluster in initial_bert_clusters:\n",
    "    print(cluster)\n",
    "    if len(initial_bert_clusters[cluster]) > 1:\n",
    "        print(initial_bert_clusters[cluster])\n",
    "\n",
    "for cluster in initial_bert_clusters.keys():  \n",
    "    for question in initial_bert_clusters[cluster]:\n",
    "        final_bert_clusters.setdefault(cluster, []).append(long_question_to_node[question[0:100]])\n",
    "        final_bert_node_to_cluster[long_question_to_node[question[0:100]].shortened_question[0:100]] = cluster\n",
    "\n",
    "# print(initial_bert_clusters)"
   ]
  },
  {
   "cell_type": "code",
   "execution_count": null,
   "metadata": {},
   "outputs": [],
   "source": [
    "from ManipulationMethods import find_clusters_to_combine\n",
    "\n",
    "groups = find_clusters_to_combine(all_contributions, final_bert_node_to_cluster, len(list(initial_bert_clusters.keys())), short_question_to_node)"
   ]
  },
  {
   "cell_type": "code",
   "execution_count": null,
   "metadata": {},
   "outputs": [],
   "source": [
    "print(groups)\n",
    "\n",
    "final_clusters = []\n",
    "\n",
    "for curr_group in groups:\n",
    "    curr_cluster = []\n",
    "    for num in curr_group:\n",
    "        if num in final_bert_clusters:\n",
    "            for node in final_bert_clusters[num]:\n",
    "                curr_cluster.append(node)\n",
    "    if len(curr_cluster) > 1:\n",
    "        final_clusters.append(curr_cluster)"
   ]
  },
  {
   "cell_type": "code",
   "execution_count": null,
   "metadata": {},
   "outputs": [],
   "source": [
    "import csv\n",
    "\n",
    "with open('output.csv','w') as f:\n",
    "    writer = csv.writer(f)\n",
    "    for sublist in final_clusters:\n",
    "        to_write = []\n",
    "        for item in sublist:\n",
    "            to_write.append(item.raw_question)\n",
    "        writer.writerow(to_write)"
   ]
  },
  {
   "cell_type": "code",
   "execution_count": null,
   "metadata": {},
   "outputs": [],
   "source": []
  }
 ],
 "metadata": {
  "kernelspec": {
   "display_name": "Python 3",
   "language": "python",
   "name": "python3"
  },
  "language_info": {
   "codemirror_mode": {
    "name": "ipython",
    "version": 3
   },
   "file_extension": ".py",
   "mimetype": "text/x-python",
   "name": "python",
   "nbconvert_exporter": "python",
   "pygments_lexer": "ipython3",
   "version": "3.7.2"
  }
 },
 "nbformat": 4,
 "nbformat_minor": 2
}
