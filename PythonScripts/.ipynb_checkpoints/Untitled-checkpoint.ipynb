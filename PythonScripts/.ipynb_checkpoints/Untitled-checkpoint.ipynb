{
 "cells": [
  {
   "cell_type": "code",
   "execution_count": 1,
   "metadata": {},
   "outputs": [],
   "source": [
    "import import_ipynb"
   ]
  },
  {
   "cell_type": "code",
   "execution_count": 2,
   "metadata": {},
   "outputs": [
    {
     "name": "stdout",
     "output_type": "stream",
     "text": [
      "importing Jupyter notebook from ParsingCSV.ipynb\n"
     ]
    }
   ],
   "source": [
    "from ParsingCSV import parseCSV\n",
    "\n",
    "all_contributions, timestamps, all_folders = parseCSV('contributions.csv')"
   ]
  },
  {
   "cell_type": "code",
   "execution_count": 3,
   "metadata": {},
   "outputs": [
    {
     "name": "stdout",
     "output_type": "stream",
     "text": [
      "importing Jupyter notebook from ManipulationMethods.ipynb\n"
     ]
    }
   ],
   "source": [
    "from ManipulationMethods import only_one_folder\n",
    "\n",
    "# Cluster within just one folder\n",
    "all_nodes = list(all_contributions.values())\n",
    "\n",
    "folder = \"hw4\"\n",
    "folder_contributions = only_one_folder(folder, all_nodes)"
   ]
  },
  {
   "cell_type": "code",
   "execution_count": 4,
   "metadata": {},
   "outputs": [
    {
     "name": "stdout",
     "output_type": "stream",
     "text": [
      "importing Jupyter notebook from ClusteringMethods.ipynb\n"
     ]
    }
   ],
   "source": [
    "from ClusteringMethods import kmeans_cluster\n",
    "from ManipulationMethods import create_cluster_dicts\n",
    "from ManipulationMethods import short_question_to_node_dict\n",
    "\n",
    "# Should put optimal k here\n",
    "k = 14\n",
    "\n",
    "short_question_to_node = short_question_to_node_dict(folder_contributions)\n",
    "short_questions = list(short_question_to_node.keys())\n",
    "\n",
    "labels = kmeans_cluster(k, short_questions)\n",
    "\n",
    "cluster_to_node, node_to_cluster = create_cluster_dicts(labels, short_questions)\n"
   ]
  },
  {
   "cell_type": "code",
   "execution_count": 7,
   "metadata": {},
   "outputs": [],
   "source": [
    "from BERTMethods import create_bert_model\n",
    "\n",
    "bert_models = []\n",
    "for cluster_number in cluster_to_node:\n",
    "    cluster_to_node[cluster_number] = [x for x in cluster_to_node[cluster_number] if x.strip()]\n",
    "    bert_models.append(create_bert_model(cluster_to_node[cluster_number]))"
   ]
  },
  {
   "cell_type": "code",
   "execution_count": 8,
   "metadata": {},
   "outputs": [],
   "source": [
    "from BERTMethods import find_k_similar_sentences\n",
    "topk_per_question = {}\n",
    "\n",
    "i = 0\n",
    "for cluster_number in cluster_to_node:\n",
    "    bert_model = bert_models[i]\n",
    "    for node in cluster_to_node[cluster_number]:\n",
    "        final_scores = find_k_similar_sentences(bert_model[0], bert_model[1], 5, cluster_to_node[cluster_number], node)\n",
    "        topk_per_question[node] = final_scores[node]\n",
    "    i = i + 1"
   ]
  },
  {
   "cell_type": "code",
   "execution_count": 9,
   "metadata": {},
   "outputs": [],
   "source": [
    "from BERTMethods import cluster_bert_clusters\n",
    "\n",
    "initial_bert_clusters = cluster_bert_clusters(topk_per_question)\n",
    "final_bert_clusters = {}\n",
    "final_bert_node_to_cluster = {}\n",
    "\n",
    "for cluster in initial_bert_clusters.keys():  \n",
    "    for question in initial_bert_clusters[cluster]:\n",
    "        final_bert_clusters.setdefault(cluster, []).append(short_question_to_node[question])\n",
    "        final_bert_node_to_cluster[short_question_to_node[question].shortened_question] = cluster"
   ]
  },
  {
   "cell_type": "code",
   "execution_count": 10,
   "metadata": {},
   "outputs": [],
   "source": [
    "from ManipulationMethods import find_clusters_to_combine\n",
    "\n",
    "groups = find_clusters_to_combine(all_contributions, final_bert_node_to_cluster, len(list(initial_bert_clusters.keys())), short_question_to_node)"
   ]
  },
  {
   "cell_type": "code",
   "execution_count": 11,
   "metadata": {},
   "outputs": [],
   "source": [
    "final_clusters = []\n",
    "\n",
    "for curr_group in groups:\n",
    "    curr_cluster = []\n",
    "    for num in curr_group:\n",
    "        if num in final_bert_clusters:\n",
    "            for node in final_bert_clusters[num]:\n",
    "                curr_cluster.append(node)\n",
    "    if len(curr_cluster) > 1:\n",
    "        final_clusters.append(curr_cluster)"
   ]
  },
  {
   "cell_type": "code",
   "execution_count": 12,
   "metadata": {},
   "outputs": [],
   "source": [
    "import csv\n",
    "\n",
    "with open('output.csv','w') as f:\n",
    "    writer = csv.writer(f)\n",
    "    for sublist in final_clusters:\n",
    "        to_write = []\n",
    "        for item in sublist:\n",
    "            to_write.append(item.raw_question)\n",
    "        writer.writerow(to_write)"
   ]
  },
  {
   "cell_type": "code",
   "execution_count": null,
   "metadata": {},
   "outputs": [],
   "source": []
  }
 ],
 "metadata": {
  "kernelspec": {
   "display_name": "Python 3",
   "language": "python",
   "name": "python3"
  },
  "language_info": {
   "codemirror_mode": {
    "name": "ipython",
    "version": 3
   },
   "file_extension": ".py",
   "mimetype": "text/x-python",
   "name": "python",
   "nbconvert_exporter": "python",
   "pygments_lexer": "ipython3",
   "version": "3.7.2"
  }
 },
 "nbformat": 4,
 "nbformat_minor": 2
}
