{
 "cells": [
  {
   "cell_type": "code",
   "execution_count": 12,
   "metadata": {},
   "outputs": [],
   "source": [
    "def cluster_bert_clusters(final_scores, k):\n",
    "    cluster_number = 0\n",
    "    final_clusters = {}\n",
    "    used_strings = {}\n",
    "    for key in final_scores:\n",
    "        quota = float(final_scores[key][0][0]) * 1/(k)\n",
    "        difference = abs(final_scores[key][0][0] - final_scores[key][1][0])\n",
    "            \n",
    "        if ((len(final_scores[final_scores[key][1][1]]) > 1 and \\\n",
    "             key == final_scores[final_scores[key][1][1]][1][1] and difference < quota) or \\\n",
    "        (len(final_scores[final_scores[key][1][1]]) > 2 and \\\n",
    "        key == final_scores[final_scores[key][1][1]][2][1] and difference < (quota / 2)) or \\\n",
    "        (len(final_scores[final_scores[key][1][1]]) > 3 and \\\n",
    "        key == final_scores[final_scores[key][1][1]][3][1] and \\\n",
    "         (difference < (quota/3)))):        \n",
    "            # Combine clusters if needed\n",
    "            if key in used_strings and final_scores[key][1][1] in used_strings:\n",
    "                cluster_number_one = used_strings[key]\n",
    "                cluster_number_two = used_strings[final_scores[key][1][1]]\n",
    "                if cluster_number_two != cluster_number_one:\n",
    "                    final_clusters[cluster_number_one] = final_clusters[cluster_number_one] + final_clusters[cluster_number_two]\n",
    "                    for string in final_clusters[cluster_number_two]:\n",
    "                        used_strings[string] = cluster_number_one\n",
    "                    final_clusters.pop(cluster_number_two, None)\n",
    "            elif key in used_strings:\n",
    "                final_clusters[used_strings[key]].append(final_scores[key][1][1])\n",
    "            elif final_scores[key][1][1] in used_strings:\n",
    "                final_clusters[used_strings[final_scores[key][1][1]]].append(key)\n",
    "            else:\n",
    "                used_strings[key] = cluster_number\n",
    "                used_strings[final_scores[key][1][1]] = cluster_number\n",
    "                final_clusters[cluster_number] = [key, final_scores[key][1][1]]\n",
    "                cluster_number = cluster_number + 1\n",
    "        else:\n",
    "            # If its not similar add it to its own cluster - we'll cut all of length one later\n",
    "            used_strings[key] = cluster_number\n",
    "            final_clusters[cluster_number] = [key]\n",
    "            cluster_number = cluster_number + 1\n",
    "            \n",
    "    return final_clusters"
   ]
  },
  {
   "cell_type": "code",
   "execution_count": 9,
   "metadata": {},
   "outputs": [],
   "source": [
    "def create_bert_model(questions):\n",
    "    from bert_serving.client import BertClient \n",
    "    \n",
    "    # Start BERT client for mrpc bert-serving-start -model_dir /Users/maralevy/Downloads/uncased_L-12_H-768_A-12 -tuned_model_dir /Users/maralevy/Documents/Piazza-SeniorDesign/bert/mrpc_output -num_worker=4 -max_seq_len=50\n",
    "    # Start BERT client for qqa checkpoint bert-serving-start -model_dir /Users/maralevy/Downloads/uncased_L-12_H-768_A-12 -tuned_model_dir /Users/maralevy/Documents/Piazza-SeniorDesign/bert/qqp_output -num_worker=4 -max_seq_len=50 -ckpt_name bert_model.ckpt-1000\n",
    "    bc = BertClient(check_version=False)  \n",
    "    doc_vecs = bc.encode(questions)\n",
    "    return (bc, doc_vecs)"
   ]
  },
  {
   "cell_type": "code",
   "execution_count": 10,
   "metadata": {},
   "outputs": [],
   "source": [
    "def find_k_similar_sentences(bc, doc_vecs, k, all_questions, question):\n",
    "    import np\n",
    "    \n",
    "    query_vec = bc.encode([question])\n",
    "    \n",
    "    score = np.sum(query_vec * doc_vecs, axis=1)/np.linalg.norm(doc_vecs, axis=1)\n",
    "    topk_idx = np.argsort(score)[::-1][:k]\n",
    "    \n",
    "    final_scores = {}\n",
    "    \n",
    "    for idx in topk_idx:\n",
    "        final_scores.setdefault(question, []).append((score[idx], all_questions[idx]))\n",
    "    \n",
    "    return final_scores"
   ]
  },
  {
   "cell_type": "code",
   "execution_count": 11,
   "metadata": {},
   "outputs": [],
   "source": [
    "def number_clusters(all_bert_clusters):\n",
    "    \n",
    "    curr_num = 1\n",
    "    \n",
    "    # Return cluster number -> node list and node -> cluster number\n",
    "    final_bert_clusters = {}\n",
    "    final_bert_cluster_locations = {}\n",
    "    \n",
    "    for cluster in all_bert_clusters:\n",
    "        final_bert_clusters[curr_num] = cluster\n",
    "        \n",
    "        for sentence in cluster:\n",
    "            final_burt_cluster_locations[sentence] = curr_num\n",
    "            \n",
    "        curr_num = curr_num + 1\n",
    "    \n",
    "    return(final_bert_clusters, final_bert_cluster_locations)\n",
    "        "
   ]
  },
  {
   "cell_type": "code",
   "execution_count": null,
   "metadata": {},
   "outputs": [],
   "source": []
  },
  {
   "cell_type": "code",
   "execution_count": null,
   "metadata": {},
   "outputs": [],
   "source": []
  }
 ],
 "metadata": {
  "kernelspec": {
   "display_name": "Python 3",
   "language": "python",
   "name": "python3"
  },
  "language_info": {
   "codemirror_mode": {
    "name": "ipython",
    "version": 3
   },
   "file_extension": ".py",
   "mimetype": "text/x-python",
   "name": "python",
   "nbconvert_exporter": "python",
   "pygments_lexer": "ipython3",
   "version": "3.7.2"
  }
 },
 "nbformat": 4,
 "nbformat_minor": 2
}
