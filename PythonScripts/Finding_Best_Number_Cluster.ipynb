{
 "cells": [
  {
   "cell_type": "code",
   "execution_count": null,
   "metadata": {},
   "outputs": [],
   "source": [
    "%run ParsingMethods.ipynb\n",
    "\n",
    "timestamps = {}\n",
    "all_contributions = {}\n",
    "all_folders = []\n",
    "\n",
    "all_contributions, timestamps, all_folders = parseCSV('contributions.csv')"
   ]
  },
  {
   "cell_type": "code",
   "execution_count": 6,
   "metadata": {},
   "outputs": [],
   "source": [
    "# Create a map of shortened questions to nodes so we can cluster and then refer back\n",
    "# For now, limit this to just one hw assignment\n",
    "\n",
    "folder = \"hw4\"\n",
    "\n",
    "to_cluster = {}\n",
    "for node in all_contributions.values():\n",
    "    if folder in node.question_folders:\n",
    "        to_cluster[node.shortened_question] = node"
   ]
  },
  {
   "cell_type": "code",
   "execution_count": 7,
   "metadata": {},
   "outputs": [
    {
     "name": "stdout",
     "output_type": "stream",
     "text": [
      "369\n"
     ]
    }
   ],
   "source": [
    "from sklearn.feature_extraction.text import TfidfVectorizer\n",
    "from sklearn.cluster import KMeans\n",
    "from sklearn.metrics import adjusted_rand_score\n",
    "\n",
    "from xml.dom import minidom\n",
    "keys = list(to_cluster.keys())\n",
    "\n",
    "print(len(keys))\n",
    "\n",
    "# parse an xml file by name\n",
    "mydoc = minidom.parse('Posts.xml')\n",
    "\n",
    "SEitems = mydoc.getElementsByTagName('row')\n",
    "\n",
    "SEitems_questions = []\n",
    "for item in SEitems:\n",
    "    SEitems_questions.append(item.attributes['Body'].value)\n",
    "    \n",
    "SEitems_questions = SEitems_questions[1:6000]\n",
    "\n",
    "vectorizer = TfidfVectorizer()\n",
    "X_orig = vectorizer.fit(SEitems_questions)\n",
    "X = vectorizer.transform(keys)\n",
    "\n",
    "# # Number of clusters per homework\n",
    "Sum_of_squared_distances = []\n",
    "K = range(1,100)\n",
    "for true_k in K:\n",
    "    model = KMeans(n_clusters=true_k, init='k-means++', max_iter=100, n_init=10)\n",
    "    model.fit(X)\n",
    "    Sum_of_squared_distances.append(model.inertia_)\n",
    "    "
   ]
  },
  {
   "cell_type": "code",
   "execution_count": null,
   "metadata": {},
   "outputs": [],
   "source": []
  },
  {
   "cell_type": "code",
   "execution_count": 9,
   "metadata": {},
   "outputs": [
    {
     "data": {
      "image/png": "[encoded data removed]",
      "text/plain": [
       "<Figure size 1080x360 with 1 Axes>"
      ]
     },
     "metadata": {
      "needs_background": "light"
     },
     "output_type": "display_data"
    }
   ],
   "source": [
    "# Plotting elbow curve\n",
    "import matplotlib.pyplot as plt\n",
    "\n",
    "fig = plt.figure(figsize=(15, 5))\n",
    "plt.plot(range(1,100), Sum_of_squared_distances)\n",
    "plt.grid(True)\n",
    "plt.title('Elbow curve')\n",
    "plt.show()"
   ]
  },
  {
   "cell_type": "code",
   "execution_count": null,
   "metadata": {},
   "outputs": [],
   "source": []
  },
  {
   "cell_type": "code",
   "execution_count": null,
   "metadata": {},
   "outputs": [],
   "source": []
  },
  {
   "cell_type": "code",
   "execution_count": 10,
   "metadata": {},
   "outputs": [],
   "source": [
    "import numpy as np\n",
    "# Doing the Gap statistic\n",
    "def optimalK(data, nrefs=3, maxClusters=70):\n",
    "    gaps = [0] * len(range(1, maxClusters))\n",
    "    \n",
    "    resultsdf = {}\n",
    "    for gap_index, k in enumerate(range(1, maxClusters)):\n",
    "\n",
    "        # Holder for reference dispersion results\n",
    "        refDisps = [0] * nrefs\n",
    "\n",
    "        # For n references, generate random sample and perform kmeans getting resulting dispersion of each loop\n",
    "        for i in range(nrefs):\n",
    "            \n",
    "            # Create new random reference set\n",
    "            randomReference = np.random.random_sample(size=data.shape)\n",
    "            \n",
    "            km = KMeans(n_clusters=k, init='k-means++', max_iter=100, n_init=10)\n",
    "            km.fit(randomReference)\n",
    "            \n",
    "            refDisp = km.inertia_\n",
    "            refDisps[i] = refDisp\n",
    "\n",
    "        # Fit cluster to original data and create dispersion\n",
    "        km = KMeans(n_clusters=k, init='k-means++', max_iter=100, n_init=10)\n",
    "        km.fit(data)\n",
    "        \n",
    "        origDisp = km.inertia_\n",
    "\n",
    "        # Calculate gap statistic\n",
    "        gap = np.log(np.mean(refDisps)) - np.log(origDisp)\n",
    "\n",
    "        # Assign this loop's gap statistic to gaps\n",
    "        gaps[gap_index] = gap\n",
    "        \n",
    "        resultsdf[k] = gap \n",
    "\n",
    "    return (gaps.index(max(gaps)) + 1, resultsdf)  # Plus 1 because index of 0 means 1 cluster is optimal, index 2 = 3 clusters are optimal\n",
    "\n",
    "k, gapdf = optimalK(X, nrefs=5, maxClusters=15)\n"
   ]
  },
  {
   "cell_type": "code",
   "execution_count": 11,
   "metadata": {},
   "outputs": [
    {
     "name": "stdout",
     "output_type": "stream",
     "text": [
      "14\n"
     ]
    }
   ],
   "source": [
    "print(k)\n"
   ]
  },
  {
   "cell_type": "code",
   "execution_count": 54,
   "metadata": {},
   "outputs": [
    {
     "name": "stdout",
     "output_type": "stream",
     "text": [
      "369\n"
     ]
    },
    {
     "data": {
      "text/plain": [
       "KMeans(algorithm='auto', copy_x=True, init='k-means++', max_iter=100,\n",
       "    n_clusters=14, n_init=10, n_jobs=None, precompute_distances='auto',\n",
       "    random_state=None, tol=0.0001, verbose=0)"
      ]
     },
     "execution_count": 54,
     "metadata": {},
     "output_type": "execute_result"
    }
   ],
   "source": [
    "from sklearn.feature_extraction.text import TfidfVectorizer\n",
    "from sklearn.cluster import KMeans\n",
    "from sklearn.metrics import adjusted_rand_score\n",
    "\n",
    "from xml.dom import minidom\n",
    "keys = list(to_cluster.keys())\n",
    "\n",
    "print(len(keys))\n",
    "\n",
    "# parse an xml file by name\n",
    "mydoc = minidom.parse('Posts.xml')\n",
    "\n",
    "SEitems = mydoc.getElementsByTagName('row')\n",
    "\n",
    "SEitems_questions = []\n",
    "for item in SEitems:\n",
    "    SEitems_questions.append(item.attributes['Body'].value)\n",
    "    \n",
    "SEitems_questions = SEitems_questions[1:6000]\n",
    "\n",
    "vectorizer = TfidfVectorizer(stop_words='english')\n",
    "X_orig = vectorizer.fit(SEitems_questions)\n",
    "X = vectorizer.transform(keys)\n",
    "\n",
    "# Number of clusters per homework\n",
    "true_k = 14\n",
    "model = KMeans(n_clusters=true_k, init='k-means++', max_iter=100, n_init=10)\n",
    "model.fit(X)"
   ]
  },
  {
   "cell_type": "code",
   "execution_count": 55,
   "metadata": {},
   "outputs": [],
   "source": []
  },
  {
   "cell_type": "code",
   "execution_count": 66,
   "metadata": {},
   "outputs": [],
   "source": [
    "final_clusters = {}\n",
    "cluster_location = {}\n",
    "for i in range(len(keys)):\n",
    "    label = model.labels_[i]\n",
    "    final_clusters.setdefault(label, []).append(to_cluster[keys[i]])\n",
    "    cluster_location[to_cluster[keys[i]]] = label\n"
   ]
  },
  {
   "cell_type": "code",
   "execution_count": 67,
   "metadata": {},
   "outputs": [
    {
     "name": "stdout",
     "output_type": "stream",
     "text": [
      "hw4  job finish writing tests  truncate   delete   mean nt write tests functions queue interface  writing tests create  valid   see tests queuetestml \n"
     ]
    },
    {
     "ename": "AttributeError",
     "evalue": "'NoneType' object has no attribute 'raw_question'",
     "output_type": "error",
     "traceback": [
      "\u001b[0;31m---------------------------------------------------------------------------\u001b[0m",
      "\u001b[0;31mAttributeError\u001b[0m                            Traceback (most recent call last)",
      "\u001b[0;32m<ipython-input-67-67a050849bdf>\u001b[0m in \u001b[0;36m<module>\u001b[0;34m\u001b[0m\n\u001b[1;32m      2\u001b[0m     \u001b[0mprint\u001b[0m\u001b[0;34m(\u001b[0m\u001b[0mshort_question\u001b[0m\u001b[0;34m)\u001b[0m\u001b[0;34m\u001b[0m\u001b[0;34m\u001b[0m\u001b[0m\n\u001b[1;32m      3\u001b[0m     \u001b[0mnode\u001b[0m \u001b[0;34m=\u001b[0m \u001b[0mto_cluster\u001b[0m\u001b[0;34m.\u001b[0m\u001b[0mget\u001b[0m\u001b[0;34m(\u001b[0m\u001b[0mshort_question\u001b[0m\u001b[0;34m)\u001b[0m\u001b[0;34m\u001b[0m\u001b[0;34m\u001b[0m\u001b[0m\n\u001b[0;32m----> 4\u001b[0;31m     \u001b[0mprint\u001b[0m\u001b[0;34m(\u001b[0m\u001b[0mnode\u001b[0m\u001b[0;34m.\u001b[0m\u001b[0mraw_question\u001b[0m\u001b[0;34m)\u001b[0m\u001b[0;34m\u001b[0m\u001b[0;34m\u001b[0m\u001b[0m\n\u001b[0m\u001b[1;32m      5\u001b[0m \u001b[0;34m\u001b[0m\u001b[0m\n",
      "\u001b[0;31mAttributeError\u001b[0m: 'NoneType' object has no attribute 'raw_question'"
     ]
    }
   ],
   "source": [
    "for short_question in final_clusters[2]:\n",
    "    print(short_question)\n",
    "    node = to_cluster.get(short_question)\n",
    "    print(node.raw_question)\n",
    "    "
   ]
  },
  {
   "cell_type": "code",
   "execution_count": null,
   "metadata": {},
   "outputs": [],
   "source": []
  }
 ],
 "metadata": {
  "kernelspec": {
   "display_name": "Python 3",
   "language": "python",
   "name": "python3"
  },
  "language_info": {
   "codemirror_mode": {
    "name": "ipython",
    "version": 3
   },
   "file_extension": ".py",
   "mimetype": "text/x-python",
   "name": "python",
   "nbconvert_exporter": "python",
   "pygments_lexer": "ipython3",
   "version": "3.7.2"
  }
 },
 "nbformat": 4,
 "nbformat_minor": 2
}
